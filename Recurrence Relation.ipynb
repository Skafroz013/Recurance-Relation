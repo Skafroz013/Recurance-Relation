{
 "cells": [
  {
   "cell_type": "markdown",
   "id": "3614587b-e497-4629-b4c1-ad01df6cc0cd",
   "metadata": {},
   "source": [
    "### 1.  Find the value of T(2) for the recurrence relation T(n) = 3T(n-1) + 12n, given that T(0)=5."
   ]
  },
  {
   "cell_type": "markdown",
   "id": "2cec5f02-70d0-4ea4-802e-5fd5cb1068d4",
   "metadata": {},
   "source": [
    "To find the value of T(2) for the given recurrence relation \\( T(n) = 3T(n-1) + 12n \\), with the initial condition \\( T(0) = 5 \\), we'll need to recursively apply the relation.\n",
    "\n",
    "Let's start with \\( T(1) \\):\n",
    "\n",
    "\\[ T(1) = 3T(0) + 12(1) \\]\n",
    "\n",
    "Since \\( T(0) = 5 \\), we have:\n",
    "\n",
    "\\[ T(1) = 3(5) + 12 = 15 + 12 = 27 \\]\n",
    "\n",
    "Now, moving on to \\( T(2) \\):\n",
    "\n",
    "\\[ T(2) = 3T(1) + 12(2) \\]\n",
    "\n",
    "Substituting the value we found for \\( T(1) \\):\n",
    "\n",
    "\\[ T(2) = 3(27) + 12(2) = 81 + 24 = 105 \\]\n",
    "\n",
    "So, the value of \\( T(2) \\) is 105."
   ]
  },
  {
   "cell_type": "markdown",
   "id": "7e634eba-7924-4340-a068-83d723eff9b9",
   "metadata": {},
   "source": [
    "### 2. Given a recurrence relation, solve it using the substitution method:"
   ]
  },
  {
   "cell_type": "markdown",
   "id": "6ff5c487-f1e7-4140-b4a4-a63a22595683",
   "metadata": {},
   "source": [
    "#### [a] T(n) = T(n-1) + c"
   ]
  },
  {
   "cell_type": "markdown",
   "id": "f13e924c-a805-4c92-a7ad-299edd16fcf9",
   "metadata": {},
   "source": [
    "To solve the recurrence relation \\( T(n) = T(n-1) + c \\) using the substitution method, we can make a guess and then prove it by induction.\n",
    "\n",
    "Guess: \\( T(n) = T(0) + nc \\)\n",
    "\n",
    "Now, let's prove this by induction:\n",
    "\n",
    "**Base Case (n = 0):**\n",
    "\\[ T(0) = T(0-1) + c = T(-1) + c \\]\n",
    "\n",
    "Since we don't have a definition for \\( T(-1) \\) in the original recurrence relation, we use the initial condition:\n",
    "\\[ T(0) = T(0) \\]\n",
    "\n",
    "So, the base case holds.\n",
    "\n",
    "**Inductive Step:**\n",
    "Assume that the formula holds for \\( T(k) \\):\n",
    "\\[ T(k) = T(0) + kc \\]\n",
    "\n",
    "Now, let's prove it for \\( T(k+1) \\):\n",
    "\\[ T(k+1) = T(k) + c \\]\n",
    "\n",
    "Substitute the assumed formula for \\( T(k) \\):\n",
    "\\[ T(k+1) = (T(0) + kc) + c \\]\n",
    "\\[ T(k+1) = T(0) + (k+1)c \\]\n",
    "\n",
    "This matches the assumed formula with \\( n = k+1 \\).\n",
    "\n",
    "Therefore, by induction, the solution to the recurrence relation \\( T(n) = T(n-1) + c \\) is \\( T(n) = T(0) + nc \\)."
   ]
  },
  {
   "cell_type": "markdown",
   "id": "eeced912-635d-4553-a095-93b882e536d8",
   "metadata": {},
   "source": [
    "#### [b] T(n) = 2T(n/2) + n"
   ]
  },
  {
   "cell_type": "markdown",
   "id": "f4dc3722-8b24-4b05-8820-96a2c060580a",
   "metadata": {},
   "source": [
    "To solve the recurrence relation \\(T(n) = 2T(n/2) + n\\) using the substitution method, we'll make a guess and then prove it by induction.\n",
    "\n",
    "Guess: \\(T(n) = n \\log n + n\\)\n",
    "\n",
    "Now, let's prove this by induction:\n",
    "\n",
    "**Base Case (n = 1):**\n",
    "\\[ T(1) = 2T(1/2) + 1 \\]\n",
    "\n",
    "We know that \\(T(1/2)\\) refers to the base case, and since we're not given its value explicitly, let's assume \\(T(1/2) = 1\\) (we can choose any base case value here). Substituting this into the equation:\n",
    "\\[ T(1) = 2(1) + 1 = 3 \\]\n",
    "\n",
    "So, the base case holds.\n",
    "\n",
    "**Inductive Step:**\n",
    "Assume that the formula holds for \\(T(k)\\):\n",
    "\\[ T(k) = k \\log k + k \\]\n",
    "\n",
    "Now, let's prove it for \\(T(2k)\\):\n",
    "\\[ T(2k) = 2T(k) + 2k \\]\n",
    "\n",
    "Substitute the assumed formula for \\(T(k)\\):\n",
    "\\[ T(2k) = 2(k \\log k + k) + 2k \\]\n",
    "\\[ T(2k) = 2k \\log k + 2k + 2k \\]\n",
    "\\[ T(2k) = 2k \\log k + 4k \\]\n",
    "\n",
    "Now, let's prove it for \\(T(2k+1)\\):\n",
    "\\[ T(2k+1) = 2T((2k+1)/2) + (2k+1) \\]\n",
    "\n",
    "Substitute the assumed formula for \\(T(k)\\):\n",
    "\\[ T(2k+1) = 2((2k+1)/2 \\log ((2k+1)/2) + (2k+1)) + (2k+1) \\]\n",
    "\\[ T(2k+1) = (2k+1) \\log (2k+1) + 2(2k+1) + (2k+1) \\]\n",
    "\\[ T(2k+1) = (2k+1) \\log (2k+1) + 5(2k+1) \\]\n",
    "\n",
    "Therefore, by induction, the solution to the recurrence relation \\(T(n) = 2T(n/2) + n\\) is \\(T(n) = n \\log n + n\\)."
   ]
  },
  {
   "cell_type": "markdown",
   "id": "7a4d9f64-ce65-4821-9a2a-e2efe5dd05d8",
   "metadata": {},
   "source": [
    "#### [c] T(n) = 2T(n/2) + c"
   ]
  },
  {
   "cell_type": "markdown",
   "id": "6d617dff-7ab2-437e-b040-b241bfb4b841",
   "metadata": {},
   "source": [
    "To solve the recurrence relation \\( T(n) = 2T(n/2) + c \\) using the substitution method, let's make a guess and then prove it by induction.\n",
    "\n",
    "**Guess:** \\( T(n) = an + bc \\)\n",
    "\n",
    "Now, let's prove this by induction:\n",
    "\n",
    "**Base Case (n = 1):**\n",
    "\\[ T(1) = 2T(1/2) + c \\]\n",
    "\n",
    "Since we don't have a definition for \\( T(1/2) \\) in the original recurrence relation, we use the initial condition if provided. If not, we consider it as the base case.\n",
    "Let's assume \\( T(1) = d \\) (where \\( d \\) is a constant).\n",
    "\n",
    "\\[ d = 2d + c \\]\n",
    "\\[ d - 2d = c \\]\n",
    "\\[ -d = c \\]\n",
    "\\[ d = -c \\]\n",
    "\n",
    "So, the base case holds.\n",
    "\n",
    "**Inductive Step:**\n",
    "Assume that the formula holds for \\( T(k) \\):\n",
    "\\[ T(k) = ak + bc \\]\n",
    "\n",
    "Now, let's prove it for \\( T(2k) \\):\n",
    "\\[ T(2k) = 2T(k) + c \\]\n",
    "\n",
    "Substitute the assumed formula for \\( T(k) \\):\n",
    "\\[ T(2k) = 2(ak + bc) + c \\]\n",
    "\\[ T(2k) = 2ak + 2bc + c \\]\n",
    "\\[ T(2k) = 2ak + (2b + 1)c \\]\n",
    "\n",
    "This matches the assumed formula with \\( n = 2k \\) if we choose \\( a = 2 \\) and \\( b = 1/2 \\).\n",
    "\n",
    "Therefore, by induction, the solution to the recurrence relation \\( T(n) = 2T(n/2) + c \\) is \\( T(n) = 2n + c/2 \\)."
   ]
  },
  {
   "cell_type": "markdown",
   "id": "723b7bd6-762f-4ca0-a77f-5145222aeefa",
   "metadata": {},
   "source": [
    "#### [d] T(n) = T(n/2) + c"
   ]
  },
  {
   "cell_type": "markdown",
   "id": "970414d4-d776-445d-90dc-1da4bb675653",
   "metadata": {},
   "source": [
    "To solve the recurrence relation \\(T(n) = T(n/2) + c\\) using the substitution method, we can make a guess and then prove it by induction.\n",
    "\n",
    "**Guess:** \\(T(n) = a.log_2(n) + b\\)\n",
    "\n",
    "Now, let's prove this by induction:\n",
    "\n",
    "**Base Case (n = 1):**\n",
    "\\[ T(1) = a .log_2(1) + b = 0 + b \\]\n",
    "\\[ T(1) = b \\]\n",
    "\n",
    "So, the base case holds.\n",
    "\n",
    "**Inductive Step:**\n",
    "Assume that the formula holds for \\(T(k)\\):\n",
    "\\[ T(k) = a.log_2(k) + b \\]\n",
    "\n",
    "Now, let's prove it for \\(T(2k)\\):\n",
    "\\[ T(2k) = T(2k/2) + c \\]\n",
    "\\[ T(2k) = T(k) + c \\]\n",
    "\n",
    "Substitute the assumed formula for \\(T(k)\\):\n",
    "\\[ T(2k) = a.log_2(k) + b + c \\]\n",
    "\n",
    "Now, let's check the formula for \\(T(2k)\\):\n",
    "\\[ a.log_2(2k) + b = a.(log_2(k) + 1) + b \\]\n",
    "\\[ a.log_2(2k) + b = a.log_2(k) + a + b \\]\n",
    "\n",
    "So, for the formula \\(T(n) = a.log_2(n) + b\\), it works for \\(T(2k)\\).\n",
    "\n",
    "Therefore, by induction, the solution to the recurrence relation \\(T(n) = T(n/2) + c\\) is \\(T(n) = a.log_2(n) + b\\), where \\(a\\) and \\(b\\) are constants determined by the initial conditions."
   ]
  },
  {
   "cell_type": "markdown",
   "id": "007f0673-b52e-4655-bbd0-d279ebb36446",
   "metadata": {},
   "source": [
    "### 3. Given a recurrence relation, solve it using the recursive tree approach:"
   ]
  },
  {
   "cell_type": "markdown",
   "id": "905087ba-f84d-4455-93c3-1bcc5789a9f1",
   "metadata": {},
   "source": [
    "#### [a] T(n) = 2T(n-1) +1"
   ]
  },
  {
   "cell_type": "markdown",
   "id": "893cd1c3-0a25-4cb2-a0b0-886d05037a57",
   "metadata": {},
   "source": [
    "To solve the recurrence relation \\( T(n) = 2T(n-1) + 1 \\) using the recursive tree approach, we can visualize the recursion as a tree.\n",
    "\n",
    "The recurrence relation suggests that each level of the recursion has two branches, each with a size reduced by 1, and there's an additive term of 1 at each level. Let's represent the recursive tree for \\( T(n) \\):\n",
    "\n",
    "```\n",
    "              T(n)\n",
    "            /      \\\n",
    "       T(n-1)     T(n-1)\n",
    "         / \\        / \\\n",
    "    T(n-2) T(n-2) T(n-2) T(n-2)\n",
    "      / \\   ...   ...   / \\\n",
    "   ...  ...\n",
    "```\n",
    "\n",
    "Now, let's analyze the structure of the tree. Each level has twice as many nodes as the level above it, and each node contributes an additive term of 1. So, at level \\( i \\), there are \\( 2^i \\) nodes, and each node contributes \\( 2^{i-1} \\) to the total sum.\n",
    "\n",
    "Let's express the sum over all levels:\n",
    "\n",
    "\\[ T(n) = \\sum_{i=0}^{n} 2^{i-1} \\]\n",
    "\n",
    "This is a geometric series, and the sum can be expressed as:\n",
    "\n",
    "\\[ T(n) = 2^n - 1 \\]\n",
    "\n",
    "So, the solution to the recurrence relation \\( T(n) = 2T(n-1) + 1 \\) using the recursive tree approach is \\( T(n) = 2^n - 1 \\)."
   ]
  },
  {
   "cell_type": "markdown",
   "id": "da561e80-f40b-4bc4-8c3f-afd38b5d56a5",
   "metadata": {},
   "source": [
    "#### [b] T(n) = 2T(n/2) + n"
   ]
  },
  {
   "cell_type": "markdown",
   "id": "ddd097fe-f22e-4738-8ddd-eea1acc4fdcc",
   "metadata": {},
   "source": [
    "To solve the recurrence relation \\(T(n) = 2T\\left(\\frac{n}{2}\\right) + n\\) using the recursive tree approach, we'll construct a tree representing the recursive calls and evaluate the sum of the costs at each level. \n",
    "\n",
    "Here's how the recursion tree looks:\n",
    "\n",
    "```\n",
    "                    T(n)\n",
    "                   /   \\\n",
    "           T(n/2)      T(n/2)\n",
    "           /  \\         /  \\\n",
    "     T(n/4) T(n/4)   T(n/4) T(n/4)\n",
    "       / \\      / \\      / \\      / \\\n",
    "T(n/8) T(n/8) T(n/8) T(n/8) T(n/8) T(n/8)\n",
    "   ...     ...     ...     ...      ...\n",
    "```\n",
    "\n",
    "Each level of the tree represents a recursive call, and the number of nodes at each level is \\(2^i\\) (where \\(i\\) is the level number, starting from 0 at the top).\n",
    "\n",
    "Now, let's calculate the cost at each level:\n",
    "\n",
    "1. **Level 0:** The cost at the root level is \\(n\\).\n",
    "2. **Level 1:** There are two nodes at this level, and each has a cost of \\(\\frac{n}{2}\\).\n",
    "3. **Level 2:** There are four nodes at this level, and each has a cost of \\(\\frac{n}{4}\\).\n",
    "4. **Level i:** There are \\(2^i\\) nodes at this level, and each has a cost of \\(\\frac{n}{2^i}\\).\n",
    "\n",
    "The recursion stops when \\(n\\) becomes 1, which occurs at level \\(\\log_2{n}\\).\n",
    "\n",
    "Now, let's write the total cost \\(T(n)\\) as the sum of costs at each level:\n",
    "\n",
    "\\[ T(n) = n + \\frac{n}{2} + \\frac{n}{4} + \\ldots + 1 \\]\n",
    "\n",
    "This is a geometric series, and the sum can be expressed as:\n",
    "\n",
    "\\[ T(n) = n \\left(1 + \\frac{1}{2} + \\frac{1}{4} + \\ldots + \\frac{1}{2^{\\log_2{n}}} \\right) \\]\n",
    "\n",
    "The sum of the geometric series \\(\\left(1 + \\frac{1}{2} + \\frac{1}{4} + \\ldots + \\frac{1}{2^k}\\right)\\) converges to 2 for large \\(k\\). Therefore:\n",
    "\n",
    "\\[ T(n) = n \\cdot 2 \\]\n",
    "\n",
    "Thus, the solution to the recurrence relation \\(T(n) = 2T\\left(\\frac{n}{2}\\right) + n\\) using the recursive tree approach is \\(T(n) = 2n\\)."
   ]
  }
 ],
 "metadata": {
  "kernelspec": {
   "display_name": "Python 3 (ipykernel)",
   "language": "python",
   "name": "python3"
  },
  "language_info": {
   "codemirror_mode": {
    "name": "ipython",
    "version": 3
   },
   "file_extension": ".py",
   "mimetype": "text/x-python",
   "name": "python",
   "nbconvert_exporter": "python",
   "pygments_lexer": "ipython3",
   "version": "3.10.8"
  }
 },
 "nbformat": 4,
 "nbformat_minor": 5
}
